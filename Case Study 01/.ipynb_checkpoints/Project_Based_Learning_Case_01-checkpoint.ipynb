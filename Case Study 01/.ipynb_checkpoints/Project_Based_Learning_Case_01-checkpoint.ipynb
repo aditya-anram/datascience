{
 "cells": [
  {
   "cell_type": "code",
   "execution_count": 18,
   "id": "309dabb9-e570-4d6f-b227-5f2fdd40736b",
   "metadata": {
    "executionInfo": {
     "elapsed": 584,
     "status": "ok",
     "timestamp": 1671520030242,
     "user": {
      "displayName": "Stephanie Fani",
      "userId": "03013489333346707504"
     },
     "user_tz": -420
    },
    "id": "309dabb9-e570-4d6f-b227-5f2fdd40736b"
   },
   "outputs": [],
   "source": [
    "#Import Libraries\n",
    "import pandas as pd\n",
    "import numpy as np\n",
    "import scipy.stats as stats"
   ]
  },
  {
   "cell_type": "code",
   "execution_count": 33,
   "id": "56587e98-c378-44b9-93f0-d796b76124ff",
   "metadata": {
    "colab": {
     "base_uri": "https://localhost:8080/",
     "height": 833
    },
    "executionInfo": {
     "elapsed": 4,
     "status": "ok",
     "timestamp": 1671520030243,
     "user": {
      "displayName": "Stephanie Fani",
      "userId": "03013489333346707504"
     },
     "user_tz": -420
    },
    "id": "56587e98-c378-44b9-93f0-d796b76124ff",
    "outputId": "34e681a7-bda2-4ea7-c895-b08208412753"
   },
   "outputs": [
    {
     "data": {
      "text/html": [
       "<div>\n",
       "<style scoped>\n",
       "    .dataframe tbody tr th:only-of-type {\n",
       "        vertical-align: middle;\n",
       "    }\n",
       "\n",
       "    .dataframe tbody tr th {\n",
       "        vertical-align: top;\n",
       "    }\n",
       "\n",
       "    .dataframe thead th {\n",
       "        text-align: right;\n",
       "    }\n",
       "</style>\n",
       "<table border=\"1\" class=\"dataframe\">\n",
       "  <thead>\n",
       "    <tr style=\"text-align: right;\">\n",
       "      <th></th>\n",
       "      <th>Transactions Amount</th>\n",
       "    </tr>\n",
       "  </thead>\n",
       "  <tbody>\n",
       "    <tr>\n",
       "      <th>0</th>\n",
       "      <td>100</td>\n",
       "    </tr>\n",
       "    <tr>\n",
       "      <th>1</th>\n",
       "      <td>150</td>\n",
       "    </tr>\n",
       "    <tr>\n",
       "      <th>2</th>\n",
       "      <td>50</td>\n",
       "    </tr>\n",
       "    <tr>\n",
       "      <th>3</th>\n",
       "      <td>100</td>\n",
       "    </tr>\n",
       "    <tr>\n",
       "      <th>4</th>\n",
       "      <td>130</td>\n",
       "    </tr>\n",
       "    <tr>\n",
       "      <th>5</th>\n",
       "      <td>120</td>\n",
       "    </tr>\n",
       "    <tr>\n",
       "      <th>6</th>\n",
       "      <td>100</td>\n",
       "    </tr>\n",
       "    <tr>\n",
       "      <th>7</th>\n",
       "      <td>85</td>\n",
       "    </tr>\n",
       "    <tr>\n",
       "      <th>8</th>\n",
       "      <td>70</td>\n",
       "    </tr>\n",
       "    <tr>\n",
       "      <th>9</th>\n",
       "      <td>150</td>\n",
       "    </tr>\n",
       "    <tr>\n",
       "      <th>10</th>\n",
       "      <td>150</td>\n",
       "    </tr>\n",
       "    <tr>\n",
       "      <th>11</th>\n",
       "      <td>120</td>\n",
       "    </tr>\n",
       "    <tr>\n",
       "      <th>12</th>\n",
       "      <td>50</td>\n",
       "    </tr>\n",
       "    <tr>\n",
       "      <th>13</th>\n",
       "      <td>100</td>\n",
       "    </tr>\n",
       "    <tr>\n",
       "      <th>14</th>\n",
       "      <td>100</td>\n",
       "    </tr>\n",
       "    <tr>\n",
       "      <th>15</th>\n",
       "      <td>140</td>\n",
       "    </tr>\n",
       "    <tr>\n",
       "      <th>16</th>\n",
       "      <td>90</td>\n",
       "    </tr>\n",
       "    <tr>\n",
       "      <th>17</th>\n",
       "      <td>150</td>\n",
       "    </tr>\n",
       "    <tr>\n",
       "      <th>18</th>\n",
       "      <td>50</td>\n",
       "    </tr>\n",
       "    <tr>\n",
       "      <th>19</th>\n",
       "      <td>90</td>\n",
       "    </tr>\n",
       "    <tr>\n",
       "      <th>20</th>\n",
       "      <td>120</td>\n",
       "    </tr>\n",
       "    <tr>\n",
       "      <th>21</th>\n",
       "      <td>100</td>\n",
       "    </tr>\n",
       "    <tr>\n",
       "      <th>22</th>\n",
       "      <td>110</td>\n",
       "    </tr>\n",
       "    <tr>\n",
       "      <th>23</th>\n",
       "      <td>75</td>\n",
       "    </tr>\n",
       "    <tr>\n",
       "      <th>24</th>\n",
       "      <td>65</td>\n",
       "    </tr>\n",
       "  </tbody>\n",
       "</table>\n",
       "</div>"
      ],
      "text/plain": [
       "    Transactions Amount\n",
       "0                   100\n",
       "1                   150\n",
       "2                    50\n",
       "3                   100\n",
       "4                   130\n",
       "5                   120\n",
       "6                   100\n",
       "7                    85\n",
       "8                    70\n",
       "9                   150\n",
       "10                  150\n",
       "11                  120\n",
       "12                   50\n",
       "13                  100\n",
       "14                  100\n",
       "15                  140\n",
       "16                   90\n",
       "17                  150\n",
       "18                   50\n",
       "19                   90\n",
       "20                  120\n",
       "21                  100\n",
       "22                  110\n",
       "23                   75\n",
       "24                   65"
      ]
     },
     "execution_count": 33,
     "metadata": {},
     "output_type": "execute_result"
    }
   ],
   "source": [
    "#Create DataFrame\n",
    "data = {'Transactions Amount': [100, 150, 50, 100, 130, 120, 100, 85, 70, 150, \n",
    "                                150, 120, 50, 100, 100, 140, 90, 150, 50, 90, \n",
    "                                120, 100, 110, 75, 65]}\n",
    "df = pd.DataFrame(data)\n",
    "df"
   ]
  },
  {
   "cell_type": "code",
   "execution_count": 34,
   "id": "KOFYWfvUtfMx",
   "metadata": {
    "colab": {
     "base_uri": "https://localhost:8080/"
    },
    "executionInfo": {
     "elapsed": 6,
     "status": "ok",
     "timestamp": 1671520030708,
     "user": {
      "displayName": "Stephanie Fani",
      "userId": "03013489333346707504"
     },
     "user_tz": -420
    },
    "id": "KOFYWfvUtfMx",
    "outputId": "4d59d08d-7da4-4d66-c8e2-35761e1ac331"
   },
   "outputs": [
    {
     "name": "stdout",
     "output_type": "stream",
     "text": [
      "Mean :  102.6\n",
      "Median :  100.0\n"
     ]
    }
   ],
   "source": [
    "#Central Tendency\n",
    "import pandas as pd\n",
    "\n",
    "mean = df['Transactions Amount'].mean()\n",
    "median = df['Transactions Amount'].median()\n",
    "\n",
    "print(\"Mean : \", mean)\n",
    "print(\"Median : \", median)"
   ]
  },
  {
   "cell_type": "code",
   "execution_count": 35,
   "id": "ceRxEGdTt966",
   "metadata": {
    "executionInfo": {
     "elapsed": 1,
     "status": "ok",
     "timestamp": 1671520033894,
     "user": {
      "displayName": "Stephanie Fani",
      "userId": "03013489333346707504"
     },
     "user_tz": -420
    },
    "id": "ceRxEGdTt966"
   },
   "outputs": [],
   "source": [
    "#Tulis analisismu dari Central Tendency di sini\n",
    "#Dari dataframe (jumlah transaksi) yang telah dibuat, rata-rata dari keseluruhan data (25 transaksi) adalah 102.6, angka ini\n",
    "#adalah penjumlahan keseluruhan data dibagi banyaknya data. Nilai tengah dari keseluruhan data (median) adalah 100."
   ]
  },
  {
   "cell_type": "code",
   "execution_count": 36,
   "id": "UcbHy344uQ-G",
   "metadata": {
    "colab": {
     "base_uri": "https://localhost:8080/"
    },
    "executionInfo": {
     "elapsed": 525,
     "status": "ok",
     "timestamp": 1671520041794,
     "user": {
      "displayName": "Stephanie Fani",
      "userId": "03013489333346707504"
     },
     "user_tz": -420
    },
    "id": "UcbHy344uQ-G",
    "outputId": "0efd8348-3879-4a79-8085-fd842b5d1a60"
   },
   "outputs": [
    {
     "name": "stdout",
     "output_type": "stream",
     "text": [
      "Variance :  1012.7499999999997\n",
      "Std Deviasi :  31.82373328193912\n",
      "Range :  100\n",
      "Quantile 0.25 :  85.0\n",
      "Quantile 0.5 :  100.0\n",
      "Quantile 0.75 :  120.0\n"
     ]
    }
   ],
   "source": [
    "#Variability\n",
    "import pandas as pd\n",
    "\n",
    "var = df['Transactions Amount'].var()\n",
    "std = df['Transactions Amount'].std()\n",
    "minAndMax = df['Transactions Amount'].max() - df['Transactions Amount'].min()\n",
    "\n",
    "print(\"Variance : \", var)\n",
    "print(\"Std Deviasi : \", std)\n",
    "print(\"Range : \", minAndMax)\n",
    "\n",
    "quartiles = df['Transactions Amount'].quantile([0.25, 0.5, 0.75])\n",
    "\n",
    "print(\"Quantile 0.25 : \", quartiles[0.25])\n",
    "print(\"Quantile 0.5 : \", quartiles[0.5])\n",
    "print(\"Quantile 0.75 : \", quartiles[0.75])"
   ]
  },
  {
   "cell_type": "code",
   "execution_count": 37,
   "id": "v_dl9Fneuabm",
   "metadata": {
    "executionInfo": {
     "elapsed": 854,
     "status": "ok",
     "timestamp": 1671520098187,
     "user": {
      "displayName": "Stephanie Fani",
      "userId": "03013489333346707504"
     },
     "user_tz": -420
    },
    "id": "v_dl9Fneuabm"
   },
   "outputs": [],
   "source": [
    "#Tulis analisismu dari Variability di sini\n",
    "#Variasi dari keseluaruhan data terhadap rata-rata ada 1012.74 , Standar deviasi 31.82, perbedaan antara nilai maksimum dan\n",
    "#nilai minimum dalam data adalah 100, quartile 1 yaitu 85, quartile 2 atau nilai tengah yaitu 100, dan quartile 3 yaitu 120."
   ]
  },
  {
   "cell_type": "code",
   "execution_count": 38,
   "id": "3786f132-4bd1-4c72-a5d9-1044aa088818",
   "metadata": {
    "executionInfo": {
     "elapsed": 1,
     "status": "ok",
     "timestamp": 1671520106679,
     "user": {
      "displayName": "Stephanie Fani",
      "userId": "03013489333346707504"
     },
     "user_tz": -420
    },
    "id": "3786f132-4bd1-4c72-a5d9-1044aa088818"
   },
   "outputs": [],
   "source": [
    "#Define H0 and H1\n",
    "#H0: Tidak ada perbedaan yang signifikan antara rata-rata penjualan sebelum dan setelah pelatihan. Dengan kata lain, rata-rata penjualan sebelum pelatihan sama dengan rata-rata penjualan setelah pelatihan.\n",
    "#H1: Ada perbedaan yang signifikan antara rata-rata penjualan sebelum dan setelah pelatihan. Dengan kata lain, rata-rata penjualan setelah pelatihan tidak sama dengan rata-rata penjualan sebelum pelatihan."
   ]
  },
  {
   "cell_type": "code",
   "execution_count": 39,
   "id": "b8103158-ecda-478d-9926-7ec0dcfc5c12",
   "metadata": {
    "executionInfo": {
     "elapsed": 624,
     "status": "ok",
     "timestamp": 1671520113997,
     "user": {
      "displayName": "Stephanie Fani",
      "userId": "03013489333346707504"
     },
     "user_tz": -420
    },
    "id": "b8103158-ecda-478d-9926-7ec0dcfc5c12"
   },
   "outputs": [],
   "source": [
    "#Define alpha = 0.05\n",
    "alpha = 0.05"
   ]
  },
  {
   "cell_type": "code",
   "execution_count": 42,
   "id": "686e0fc4-84d5-4712-ae90-b47eb3ea44ac",
   "metadata": {
    "colab": {
     "base_uri": "https://localhost:8080/"
    },
    "executionInfo": {
     "elapsed": 2,
     "status": "ok",
     "timestamp": 1671520114452,
     "user": {
      "displayName": "Stephanie Fani",
      "userId": "03013489333346707504"
     },
     "user_tz": -420
    },
    "id": "686e0fc4-84d5-4712-ae90-b47eb3ea44ac",
    "outputId": "42c97137-4bef-4516-8b06-654df3bbaa93"
   },
   "outputs": [],
   "source": [
    "#Calculate t statistics and P-value\n",
    "#Perform one sample t-test\n",
    "\n",
    "sales_before = 100\n",
    "\n",
    "from scipy.stats import ttest_1samp\n",
    "t_statistic, p_value = ttest_1samp(df[\"Transactions Amount\"], sales_before)"
   ]
  },
  {
   "cell_type": "code",
   "execution_count": 45,
   "id": "592f6cf7",
   "metadata": {},
   "outputs": [
    {
     "name": "stdout",
     "output_type": "stream",
     "text": [
      "Statistic :  0.4085001556802841\n",
      "Pvalue :  0.6865284813438117\n"
     ]
    }
   ],
   "source": [
    "#statistic= , pvalue=\n",
    "print(\"Statistic : \",t_statistic)\n",
    "print(\"Pvalue : \", p_value)"
   ]
  },
  {
   "cell_type": "code",
   "execution_count": 48,
   "id": "35c7de5f-3992-4872-98ea-9e9269b1557b",
   "metadata": {
    "executionInfo": {
     "elapsed": 435,
     "status": "ok",
     "timestamp": 1671520140175,
     "user": {
      "displayName": "Stephanie Fani",
      "userId": "03013489333346707504"
     },
     "user_tz": -420
    },
    "id": "35c7de5f-3992-4872-98ea-9e9269b1557b"
   },
   "outputs": [
    {
     "name": "stdout",
     "output_type": "stream",
     "text": [
      "Tidak cukup bukti untuk menolak hipotesis nol (H0). Rata-rata jumlah transaksi tidak berbeda secara signifikan dari $100.\n"
     ]
    }
   ],
   "source": [
    "#Conclude with alpha and p-value\n",
    "#Conclusion: \n",
    "if p_value < 0.05:\n",
    "    print(\"Hipotesis nol (H0) ditolak. Rata-rata jumlah transaksi berbeda secara signifikan dari $100.\")\n",
    "else:\n",
    "    print(\"Tidak cukup bukti untuk menolak hipotesis nol (H0). Rata-rata jumlah transaksi tidak berbeda secara signifikan dari $100.\")"
   ]
  },
  {
   "cell_type": "code",
   "execution_count": 59,
   "id": "9580db55-a594-4c1b-a5e6-3787906505c2",
   "metadata": {
    "executionInfo": {
     "elapsed": 1,
     "status": "ok",
     "timestamp": 1671520143687,
     "user": {
      "displayName": "Stephanie Fani",
      "userId": "03013489333346707504"
     },
     "user_tz": -420
    },
    "id": "9580db55-a594-4c1b-a5e6-3787906505c2"
   },
   "outputs": [
    {
     "name": "stdout",
     "output_type": "stream",
     "text": [
      "Critical Region :  1.7108820799094275\n"
     ]
    }
   ],
   "source": [
    "#Conclude with t statistics and critical region\n",
    "#Find the critical region\n",
    "\n",
    "from scipy.stats import t\n",
    "\n",
    "critical_region = t.ppf(1 - alpha, df)\n",
    "\n",
    "print(\"Critical Region : \", critical_region)\n"
   ]
  },
  {
   "cell_type": "code",
   "execution_count": null,
   "id": "1429f038",
   "metadata": {},
   "outputs": [],
   "source": [
    "#H1: Rata-rata jumlah transaksi setelah pelatihan tidak sama dengan $100"
   ]
  },
  {
   "cell_type": "code",
   "execution_count": 61,
   "id": "d6595428-5211-4cf7-bb61-ca8e201e6ef6",
   "metadata": {
    "executionInfo": {
     "elapsed": 1,
     "status": "ok",
     "timestamp": 1671520153697,
     "user": {
      "displayName": "Stephanie Fani",
      "userId": "03013489333346707504"
     },
     "user_tz": -420
    },
    "id": "d6595428-5211-4cf7-bb61-ca8e201e6ef6"
   },
   "outputs": [
    {
     "name": "stdout",
     "output_type": "stream",
     "text": [
      "Tidak cukup bukti untuk menolak hipotesis nol (H0). Tidak ada perbedaan yang signifikan antara rata-rata jumlah transaksi setelah pelatihan dan $100.\n"
     ]
    }
   ],
   "source": [
    "#Critical region result\n",
    "if abs(t_statistic) > critical_region:\n",
    "    conclusion = \"Hipotesis nol (H0) ditolak. Terdapat perbedaan yang signifikan antara rata-rata jumlah transaksi setelah pelatihan dan $100.\"\n",
    "else:\n",
    "    conclusion = \"Tidak cukup bukti untuk menolak hipotesis nol (H0). Tidak ada perbedaan yang signifikan antara rata-rata jumlah transaksi setelah pelatihan dan $100.\"\n",
    "print(conclusion)"
   ]
  },
  {
   "cell_type": "code",
   "execution_count": null,
   "id": "7f4094b8",
   "metadata": {},
   "outputs": [],
   "source": [
    "#Conclusion: \n",
    "\n",
    "Berdasarkan hasil pengujian terhadap  data pelatihan sales force dia atas, kesimpulan hasil analisa sebagai berikut:\n",
    "\n",
    "1. Hipotesis Nol (H0): Hipotesis nol yang diuji adalah bahwa tidak ada perbedaan yang signifikan antara rata-rata jumlah transaksi sebelum dan setelah pelatihan.\n",
    "\n",
    "2. Hipotesis Alternatif (H1): Hipotesis alternatif yang diuji adalah bahwa terdapat perbedaan yang signifikan antara rata-rata jumlah transaksi sebelum dan setelah pelatihan.\n",
    "\n",
    "3. Analisis Statistik:\n",
    "\n",
    "- Dilakukan uji t satu sampel untuk membandingkan rata-rata jumlah transaksi setelah pelatihan dengan nilai yang ditetapkan sebelumnya (dalam kasus ini, $100).\n",
    "- Diperoleh nilai t-statistik sebesar 0.4085 dan nilai kritis sebesar 1.7109 pada tingkat signifikansi 5%.\n",
    "- Karena nilai t-statistik lebih kecil dari nilai kritis, kita tidak memiliki cukup bukti untuk menolak hipotesis nol.\n",
    "\n",
    "\n",
    "Jadi berdasarkan hasil tersebut dapat ditarik kesimpulan bahwa, tidak terdapat perbedaan yang signifikan antara rata-rata jumlah transaksi sebelum dan setelah pelatihan.\n",
    "Pelatihan sales force tidak memberikan dampak yang signifikan terhadap peningkatan jumlah transaksi dalam jangka waktu yang diuji.\n",
    "Dengan demikian, berdasarkan hasil pengujian, tidak merekomendasikan untuk melanjutkan atau mengulangi pelatihan sales force dengan metode yang sama, dan mungkin perlu mempertimbangkan strategi atau pendekatan yang berbeda untuk meningkatkan kinerja penjualan di masa mendatang.\n",
    "\n",
    "\n",
    "\n"
   ]
  }
 ],
 "metadata": {
  "colab": {
   "provenance": []
  },
  "kernelspec": {
   "display_name": "Python 3 (ipykernel)",
   "language": "python",
   "name": "python3"
  },
  "language_info": {
   "codemirror_mode": {
    "name": "ipython",
    "version": 3
   },
   "file_extension": ".py",
   "mimetype": "text/x-python",
   "name": "python",
   "nbconvert_exporter": "python",
   "pygments_lexer": "ipython3",
   "version": "3.9.13"
  },
  "vscode": {
   "interpreter": {
    "hash": "5e70fd34aa919644e731ce0c71c5ec6c66d3b48eb7909f9a04da7ee7076ef028"
   }
  }
 },
 "nbformat": 4,
 "nbformat_minor": 5
}
